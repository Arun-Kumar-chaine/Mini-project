{
  "nbformat": 4,
  "nbformat_minor": 0,
  "metadata": {
    "colab": {
      "name": "Mini Project .ipynb",
      "provenance": [],
      "collapsed_sections": [],
      "include_colab_link": true
    },
    "kernelspec": {
      "name": "python3",
      "display_name": "Python 3"
    },
    "language_info": {
      "name": "python"
    }
  },
  "cells": [
    {
      "cell_type": "markdown",
      "metadata": {
        "id": "view-in-github",
        "colab_type": "text"
      },
      "source": [
        "<a href=\"https://colab.research.google.com/github/Arun-Kumar-chaine/Mini-project/blob/main/Mini_Project_.ipynb\" target=\"_parent\"><img src=\"https://colab.research.google.com/assets/colab-badge.svg\" alt=\"Open In Colab\"/></a>"
      ]
    },
    {
      "cell_type": "code",
      "metadata": {
        "id": "3vMQ20mwDcyg",
        "colab": {
          "base_uri": "https://localhost:8080/"
        },
        "outputId": "e4c87d62-85ce-4b11-9e8a-9e1f6dd03b52"
      },
      "source": [
        "!pip install bing-image-downloader "
      ],
      "execution_count": 1,
      "outputs": [
        {
          "output_type": "stream",
          "text": [
            "Collecting bing-image-downloader\n",
            "  Downloading https://files.pythonhosted.org/packages/0d/bf/537a61030b84ae4cd5022d5c7b014fd9bc3ce7c02358919153a6658a61d3/bing_image_downloader-1.0.4-py3-none-any.whl\n",
            "Installing collected packages: bing-image-downloader\n",
            "Successfully installed bing-image-downloader-1.0.4\n"
          ],
          "name": "stdout"
        }
      ]
    },
    {
      "cell_type": "code",
      "metadata": {
        "id": "lqH01Hv-W_Lw",
        "colab": {
          "base_uri": "https://localhost:8080/"
        },
        "outputId": "7903ceb6-061b-4043-9ad1-3403eb9af690"
      },
      "source": [
        "!pip install ipython-autotime\n",
        "%load_ext autotime"
      ],
      "execution_count": 2,
      "outputs": [
        {
          "output_type": "stream",
          "text": [
            "Collecting ipython-autotime\n",
            "  Downloading https://files.pythonhosted.org/packages/b4/c9/b413a24f759641bc27ef98c144b590023c8038dfb8a3f09e713e9dff12c1/ipython_autotime-0.3.1-py2.py3-none-any.whl\n",
            "Requirement already satisfied: ipython in /usr/local/lib/python3.7/dist-packages (from ipython-autotime) (5.5.0)\n",
            "Requirement already satisfied: pickleshare in /usr/local/lib/python3.7/dist-packages (from ipython->ipython-autotime) (0.7.5)\n",
            "Requirement already satisfied: simplegeneric>0.8 in /usr/local/lib/python3.7/dist-packages (from ipython->ipython-autotime) (0.8.1)\n",
            "Requirement already satisfied: traitlets>=4.2 in /usr/local/lib/python3.7/dist-packages (from ipython->ipython-autotime) (5.0.5)\n",
            "Requirement already satisfied: setuptools>=18.5 in /usr/local/lib/python3.7/dist-packages (from ipython->ipython-autotime) (56.1.0)\n",
            "Requirement already satisfied: pexpect; sys_platform != \"win32\" in /usr/local/lib/python3.7/dist-packages (from ipython->ipython-autotime) (4.8.0)\n",
            "Requirement already satisfied: pygments in /usr/local/lib/python3.7/dist-packages (from ipython->ipython-autotime) (2.6.1)\n",
            "Requirement already satisfied: decorator in /usr/local/lib/python3.7/dist-packages (from ipython->ipython-autotime) (4.4.2)\n",
            "Requirement already satisfied: prompt-toolkit<2.0.0,>=1.0.4 in /usr/local/lib/python3.7/dist-packages (from ipython->ipython-autotime) (1.0.18)\n",
            "Requirement already satisfied: ipython-genutils in /usr/local/lib/python3.7/dist-packages (from traitlets>=4.2->ipython->ipython-autotime) (0.2.0)\n",
            "Requirement already satisfied: ptyprocess>=0.5 in /usr/local/lib/python3.7/dist-packages (from pexpect; sys_platform != \"win32\"->ipython->ipython-autotime) (0.7.0)\n",
            "Requirement already satisfied: wcwidth in /usr/local/lib/python3.7/dist-packages (from prompt-toolkit<2.0.0,>=1.0.4->ipython->ipython-autotime) (0.2.5)\n",
            "Requirement already satisfied: six>=1.9.0 in /usr/local/lib/python3.7/dist-packages (from prompt-toolkit<2.0.0,>=1.0.4->ipython->ipython-autotime) (1.15.0)\n",
            "Installing collected packages: ipython-autotime\n",
            "Successfully installed ipython-autotime-0.3.1\n",
            "time: 205 µs (started: 2021-05-24 07:15:31 +00:00)\n"
          ],
          "name": "stdout"
        }
      ]
    },
    {
      "cell_type": "code",
      "metadata": {
        "id": "kWBC9j1yF1MG",
        "colab": {
          "base_uri": "https://localhost:8080/"
        },
        "outputId": "ba5a857c-f358-401c-a931-7eacc3dddf1c"
      },
      "source": [
        "!mkdir images\n",
        "#Making a directory with name image "
      ],
      "execution_count": 3,
      "outputs": [
        {
          "output_type": "stream",
          "text": [
            "time: 113 ms (started: 2021-05-24 07:15:31 +00:00)\n"
          ],
          "name": "stdout"
        }
      ]
    },
    {
      "cell_type": "code",
      "metadata": {
        "id": "RDhctoGJH4KD"
      },
      "source": [
        ""
      ],
      "execution_count": 3,
      "outputs": []
    },
    {
      "cell_type": "code",
      "metadata": {
        "id": "9xSFFoBrNCJW",
        "colab": {
          "base_uri": "https://localhost:8080/"
        },
        "outputId": "80bd4273-aac4-4d2d-b6b2-e2fe6bab0fbd"
      },
      "source": [
        "from bing_image_downloader import downloader \n",
        "downloader.download(\"Night sky\", limit = 30 , output_dir='images ', adult_filter_off= False)"
      ],
      "execution_count": 4,
      "outputs": [
        {
          "output_type": "stream",
          "text": [
            "\n",
            "\n",
            "[!!]Indexing page: 1\n",
            "\n",
            "[%] Indexed 10 Images on Page 1.\n",
            "\n",
            "===============================================\n",
            "\n",
            "[%] Downloading Image #1 from https://wallpapershome.com/images/wallpapers/night-sky-1280x720-5k-4k-wallpaper-8k-stars-night-mountains-nebula-5497.jpg\n",
            "[%] File Downloaded !\n",
            "\n",
            "[%] Downloading Image #2 from http://wallpapershome.com/images/pages/pic_v/1136.jpg\n",
            "[%] File Downloaded !\n",
            "\n",
            "[%] Downloading Image #3 from https://wallpapershome.com/images/wallpapers/road-1080x1920-night-forest-sky-4k-20331.jpg\n",
            "[%] File Downloaded !\n",
            "\n",
            "[%] Downloading Image #4 from https://www.hdwallpapers.in/download/shanghai_skyscraper_tower_under_sky_hd_travel-1366x768.jpg\n",
            "[%] File Downloaded !\n",
            "\n",
            "[%] Downloading Image #5 from https://wallpapershome.com/images/wallpapers/bora-bora-2160x3840-5k-4k-wallpaper-french-polynesia-best-beaches-of-633.jpg\n",
            "[%] File Downloaded !\n",
            "\n",
            "[%] Downloading Image #6 from https://babyshowerideas4u.com/wp-content/uploads/2016/09/Starry-Night-Baby-Shower-Cake-600x800.jpg\n",
            "[!] Issue getting: https://babyshowerideas4u.com/wp-content/uploads/2016/09/Starry-Night-Baby-Shower-Cake-600x800.jpg\n",
            "[!] Error:: <urlopen error _ssl.c:1074: The handshake operation timed out>\n",
            "[%] Downloading Image #6 from https://wallpapershome.com/images/wallpapers/heaven-3840x2160-city-arch-building-space-station-monster-clouds-sky-2061.jpg\n",
            "[%] File Downloaded !\n",
            "\n",
            "[%] Downloading Image #7 from https://wallpapershome.com/images/wallpapers/new-zealand-1440x2560-hd-4k-wallpaper-mountains-meadows-clouds-sky-5258.jpg\n",
            "[%] File Downloaded !\n",
            "\n",
            "[%] Downloading Image #8 from https://wallpapershome.com/images/wallpapers/heaven-1080x1920-city-arch-building-space-station-monster-clouds-sky-2061.jpg\n",
            "[%] File Downloaded !\n",
            "\n",
            "[%] Downloading Image #9 from http://annstreetstudio.com/wp-content/uploads/2015/01/Machu_Picchu__16.jpg\n",
            "[%] File Downloaded !\n",
            "\n",
            "\n",
            "\n",
            "[!!]Indexing page: 2\n",
            "\n",
            "[%] Indexed 10 Images on Page 2.\n",
            "\n",
            "===============================================\n",
            "\n",
            "[%] Downloading Image #10 from https://wallpapershome.com/images/wallpapers/clouds-2560x1440-4k-hd-wallpaper-sky-iceland-beach-ocean-mountains-921.jpg\n",
            "[%] File Downloaded !\n",
            "\n",
            "[%] Downloading Image #11 from https://wallpapershome.com/images/wallpapers/norway-1920x1080-4k-hd-wallpaper-blue-sunset-sea-ocean-water-sky-856.jpg\n",
            "[%] File Downloaded !\n",
            "\n",
            "[%] Downloading Image #12 from http://papers.co/wallpaper/papers.co-ng95-sky-rainbow-cloud-sunset-nature-34-iphone6-plus-wallpaper.jpg\n",
            "[%] File Downloaded !\n",
            "\n",
            "[%] Downloading Image #13 from https://wallpapershome.com/images/wallpapers/new-zealand-2560x1440-4k-hd-wallpaper-nature-sky-clouds-lake-road-919.jpg\n",
            "[%] File Downloaded !\n",
            "\n",
            "[%] Downloading Image #14 from https://wallpapershome.com/images/wallpapers/las-vegas-3840x2160-4k-hd-wallpaper-5k-the-valley-of-fire-state-park-830.jpg\n",
            "[%] File Downloaded !\n",
            "\n",
            "[%] Downloading Image #15 from https://4kwallpapers.com/images/wallpapers/sahara-desert-merzouga-morocco-sand-dune-blue-sky-sunny-day-1080x2400-2122.jpg\n",
            "[%] File Downloaded !\n",
            "\n",
            "[%] Downloading Image #16 from https://4kwallpapers.com/images/wallpapers/dark-forest-woods-night-time-dark-shadow-tall-trees-haunted-1125x2436-2508.jpg\n",
            "[%] File Downloaded !\n",
            "\n",
            "[%] Downloading Image #17 from https://babyshowerideas4u.com/wp-content/uploads/2016/09/Starry-Night-Baby-Shower-Candied-Apples-600x800.jpg\n",
            "[%] File Downloaded !\n",
            "\n",
            "[%] Downloading Image #18 from https://cdn.architecturendesign.net/wp-content/uploads/2014/09/5-fancy-hotel-bedroom-skylight-view1.jpg\n",
            "[%] File Downloaded !\n",
            "\n",
            "[%] Downloading Image #19 from https://babyshowerideas4u.com/wp-content/uploads/2016/09/Starry-Night-Baby-Shower-Candied-Apples.jpg\n",
            "[%] File Downloaded !\n",
            "\n",
            "\n",
            "\n",
            "[!!]Indexing page: 3\n",
            "\n",
            "[%] Indexed 9 Images on Page 3.\n",
            "\n",
            "===============================================\n",
            "\n",
            "[%] Downloading Image #20 from https://wallpapershome.com/images/wallpapers/clouds-3840x2160-sky-field-4k-14976.jpeg\n",
            "[%] File Downloaded !\n",
            "\n",
            "[%] Downloading Image #21 from https://wallpapershome.com/images/wallpapers/light-1440x2560-forest-tree-4k-15855.jpg\n",
            "[%] File Downloaded !\n",
            "\n",
            "[%] Downloading Image #22 from https://iphoneswallpapers.com/wp-content/uploads/2017/03/mountain-snow-sky-mist-blue-sunset-clouds-iPhone-Wallpaper-iphoneswallpapers_com.jpg\n",
            "[%] File Downloaded !\n",
            "\n",
            "[%] Downloading Image #23 from https://4kwallpapers.com/images/wallpapers/full-moon-clouds-pink-sky-1080x2400-1653.jpg\n",
            "[%] File Downloaded !\n",
            "\n",
            "[%] Downloading Image #24 from http://iphoneswallpapers.com/wp-content/uploads/2018/08/Desert-Sky-Night-Stars-iPhone-Wallpaper.jpg\n",
            "[%] File Downloaded !\n",
            "\n",
            "[%] Downloading Image #25 from https://wallpapershome.com/images/wallpapers/atlantis-3840x2160-dubai-hotel-night-resort-sea-ocean-water-sky-1142.jpg\n",
            "[%] File Downloaded !\n",
            "\n",
            "[%] Downloading Image #26 from https://wallpapershome.com/images/wallpapers/night-2160x3840-sky-moon-stars-forest-4k-17037.jpg\n",
            "[%] File Downloaded !\n",
            "\n",
            "[%] Downloading Image #27 from https://4kwallpapers.com/images/wallpapers/couple-romantic-silhouette-sunset-seascape-together-5k-640x1136-1697.jpg\n",
            "[%] File Downloaded !\n",
            "\n",
            "[%] Downloading Image #28 from http://wallpapershome.com/images/wallpapers/new-zealand-3840x2160-4k-hd-wallpaper-nature-sky-clouds-lake-road-919.jpg\n",
            "[%] File Downloaded !\n",
            "\n",
            "\n",
            "\n",
            "[!!]Indexing page: 4\n",
            "\n",
            "[%] Indexed 8 Images on Page 4.\n",
            "\n",
            "===============================================\n",
            "\n",
            "[%] Downloading Image #29 from https://wallpapershome.com/images/wallpapers/bora-bora-2160x3840-5k-4k-wallpaper-french-polynesia-best-beaches-of-633.jpg\n",
            "[%] File Downloaded !\n",
            "\n",
            "[%] Downloading Image #30 from http://wallpapershome.com/images/pages/pic_v/1136.jpg\n",
            "[%] File Downloaded !\n",
            "\n",
            "\n",
            "\n",
            "[%] Done. Downloaded 30 images.\n",
            "\n",
            "===============================================\n",
            "\n",
            "time: 1min 32s (started: 2021-05-24 07:15:31 +00:00)\n"
          ],
          "name": "stdout"
        }
      ]
    },
    {
      "cell_type": "code",
      "metadata": {
        "id": "HZrr92bcN-Uv",
        "colab": {
          "base_uri": "https://localhost:8080/"
        },
        "outputId": "3d7667d6-2c7b-4659-81e8-a8a3d8630866"
      },
      "source": [
        "from bing_image_downloader import downloader\n",
        "downloader.download(\"Sun\", limit = 30 , output_dir='images ', adult_filter_off= True)"
      ],
      "execution_count": 5,
      "outputs": [
        {
          "output_type": "stream",
          "text": [
            "\n",
            "\n",
            "[!!]Indexing page: 1\n",
            "\n",
            "[%] Indexed 9 Images on Page 1.\n",
            "\n",
            "===============================================\n",
            "\n",
            "[%] Downloading Image #1 from http://www.hdwallpapers.in/download/sunrise_hdr-1920x1200.jpg\n",
            "[%] File Downloaded !\n",
            "\n",
            "[%] Downloading Image #2 from https://www.thetreecenter.com/wp-content/uploads/acer-circinatum-pacific-fire-1.jpg\n",
            "[%] File Downloaded !\n",
            "\n",
            "[%] Downloading Image #3 from https://hative.com/wp-content/uploads/2014/10/no-carve-pumpkin-ideas/4-caramel-apple.jpg\n",
            "[%] File Downloaded !\n",
            "\n",
            "[%] Downloading Image #4 from https://www.topdreamer.com/wp-content/uploads/2013/05/Water-Reflection-10.jpg\n",
            "[%] File Downloaded !\n",
            "\n",
            "[%] Downloading Image #5 from https://image.zmenu.com/menupic/5497773/s_cdc1a56d-57b5-4dad-8dfb-28b94f3ccc3c.jpg\n",
            "[%] File Downloaded !\n",
            "\n",
            "[%] Downloading Image #6 from http://cdn.shopify.com/s/files/1/2059/7683/articles/Dark_Nights_Metal_5_Francesco_Mattina_Virgin_Variant_Batman_who_Laughs_S_1024x1024.jpg?v=1512859566\n",
            "[%] File Downloaded !\n",
            "\n",
            "[%] Downloading Image #7 from https://image.zmenu.com/menupic/2431699/s_4e5a6fb5-59ed-44db-8631-19d15920c20e.jpg\n",
            "[%] File Downloaded !\n",
            "\n",
            "[%] Downloading Image #8 from https://www.nermanmuseum.org/_resources/images/collections/sculpture/magdalena-abakanowicz-two-figures-on-a-beam.jpg\n",
            "[%] File Downloaded !\n",
            "\n",
            "[%] Downloading Image #9 from https://1.bp.blogspot.com/-mo9gBJ8ckpQ/WOFQkpdY9xI/AAAAAAAAIWE/h8tIlvRSkKYDikhlQzX6WpHBNu8gOzcqgCLcB/s640/happy-easter-wishes-messages-religious.jpg\n",
            "[%] File Downloaded !\n",
            "\n",
            "\n",
            "\n",
            "[!!]Indexing page: 2\n",
            "\n",
            "[%] Indexed 10 Images on Page 2.\n",
            "\n",
            "===============================================\n",
            "\n",
            "[%] Downloading Image #10 from https://www.topdreamer.com/wp-content/uploads/2013/05/Water-Reflection-24.jpg\n",
            "[%] File Downloaded !\n",
            "\n",
            "[%] Downloading Image #11 from https://cactusjungle.com/wp-content/uploads/2015/10/dudleya_edulis.jpg\n",
            "[%] File Downloaded !\n",
            "\n",
            "[%] Downloading Image #12 from https://image.zmenu.com/menupic/806222/s_df90e2cc-0f5b-4078-b61c-7b9a22fe6f59.jpg\n",
            "[%] File Downloaded !\n",
            "\n",
            "[%] Downloading Image #13 from https://cdnassets.hw.net/4e/f5/2d3d131846ea862f9d047e5a7141/ledge-lounger-chair-edit-683x1024-tcm128-2212071.jpg\n",
            "[%] File Downloaded !\n",
            "\n",
            "[%] Downloading Image #14 from https://d.ibtimes.co.uk/en/full/1429595/aurora-borealis.jpg?w=1000&amp;e=4289f38c77af80bf5ea8fe46e59acb97\n",
            "[%] File Downloaded !\n",
            "\n",
            "[%] Downloading Image #15 from http://www.minnesotawildflowers.info/udata/r9ndp23q/pd/orthocarpus-luteus-843798-4.jpg\n",
            "[%] File Downloaded !\n",
            "\n",
            "[%] Downloading Image #16 from http://allisonragsdalephotography.com/wp-content/uploads/2014/01/allisonragsdalephotography-1189.jpg\n",
            "[%] File Downloaded !\n",
            "\n",
            "[%] Downloading Image #17 from http://www.awesomeinventions.com/wp-content/uploads/2014/09/mayan.jpg\n",
            "[%] File Downloaded !\n",
            "\n",
            "[%] Downloading Image #18 from https://www.desktopbackground.org/download/360x640/2014/03/11/729680_anime-romance-hd-wallpapers-and-backgrounds_1920x1080_h.jpg\n",
            "[%] File Downloaded !\n",
            "\n",
            "[%] Downloading Image #19 from https://4.bp.blogspot.com/-Qiy-cmLhLeA/T2P7XrEbyqI/AAAAAAAAEFQ/YVIq6I224Dw/s400/galle_fort+1.jpg\n",
            "[%] File Downloaded !\n",
            "\n",
            "\n",
            "\n",
            "[!!]Indexing page: 3\n",
            "\n",
            "[%] Indexed 9 Images on Page 3.\n",
            "\n",
            "===============================================\n",
            "\n",
            "[%] Downloading Image #20 from https://cdnassets.hw.net/4e/f5/2d3d131846ea862f9d047e5a7141/ledge-lounger-chair-edit-683x1024-tcm128-2212071.jpg\n",
            "[%] File Downloaded !\n",
            "\n",
            "[%] Downloading Image #21 from http://www.awesomeinventions.com/wp-content/uploads/2014/09/mayan.jpg\n",
            "[%] File Downloaded !\n",
            "\n",
            "[%] Downloading Image #22 from https://d.ibtimes.co.uk/en/full/1429595/aurora-borealis.jpg?w=1000&amp;e=4289f38c77af80bf5ea8fe46e59acb97\n",
            "[%] File Downloaded !\n",
            "\n",
            "[%] Downloading Image #23 from https://4.bp.blogspot.com/-Qiy-cmLhLeA/T2P7XrEbyqI/AAAAAAAAEFQ/YVIq6I224Dw/s400/galle_fort+1.jpg\n",
            "[%] File Downloaded !\n",
            "\n",
            "[%] Downloading Image #24 from http://allisonragsdalephotography.com/wp-content/uploads/2014/01/allisonragsdalephotography-1189.jpg\n",
            "[%] File Downloaded !\n",
            "\n",
            "[%] Downloading Image #25 from https://www.desktopbackground.org/download/360x640/2014/03/11/729680_anime-romance-hd-wallpapers-and-backgrounds_1920x1080_h.jpg\n",
            "[%] File Downloaded !\n",
            "\n",
            "[%] Downloading Image #26 from https://image.zmenu.com/menupic/806222/s_df90e2cc-0f5b-4078-b61c-7b9a22fe6f59.jpg\n",
            "[%] File Downloaded !\n",
            "\n",
            "[%] Downloading Image #27 from https://cactusjungle.com/wp-content/uploads/2015/10/dudleya_edulis.jpg\n",
            "[%] File Downloaded !\n",
            "\n",
            "[%] Downloading Image #28 from http://www.minnesotawildflowers.info/udata/r9ndp23q/pd/orthocarpus-luteus-843798-4.jpg\n",
            "[%] File Downloaded !\n",
            "\n",
            "\n",
            "\n",
            "[!!]Indexing page: 4\n",
            "\n",
            "[%] Indexed 8 Images on Page 4.\n",
            "\n",
            "===============================================\n",
            "\n",
            "[%] Downloading Image #29 from https://d.ibtimes.co.uk/en/full/1429595/aurora-borealis.jpg?w=1000&amp;e=4289f38c77af80bf5ea8fe46e59acb97\n",
            "[%] File Downloaded !\n",
            "\n",
            "[%] Downloading Image #30 from http://allisonragsdalephotography.com/wp-content/uploads/2014/01/allisonragsdalephotography-1189.jpg\n",
            "[%] File Downloaded !\n",
            "\n",
            "\n",
            "\n",
            "[%] Done. Downloaded 30 images.\n",
            "\n",
            "===============================================\n",
            "\n",
            "time: 5.76 s (started: 2021-05-24 07:17:03 +00:00)\n"
          ],
          "name": "stdout"
        }
      ]
    },
    {
      "cell_type": "code",
      "metadata": {
        "id": "4bvR5dbyOxYK",
        "colab": {
          "base_uri": "https://localhost:8080/"
        },
        "outputId": "6de4da5e-e90c-4af3-d322-6930eb8f1596"
      },
      "source": [
        "# Preprocessing Data\n",
        "#Step 1 - Resizing\n",
        "#Step 2 - Flatting data\n",
        "\n",
        "#importing libraries\n",
        "\n",
        "import os \n",
        "import matplotlib.pyplot as plt \n",
        "import numpy as np \n",
        "from skimage.io import imread \n",
        "from skimage.transform import resize  #to resize images \n",
        "\n",
        "target = []\n",
        "images = []\n",
        "flat_data = []\n",
        "\n",
        "DATADIR = '/content/images '\n",
        "CATEGORIES = ['Night sky','Sun']\n",
        "\n",
        "for category in CATEGORIES:   #To iterate in categories\n",
        "   class_num = CATEGORIES.index(category)  #Labelling categories for easy access\n",
        "   path = os.path.join(DATADIR,category)   #creating a path to iterate via images\n",
        "   for img in os.listdir(path):\n",
        "     img_array = imread(os.path.join(path,img))  #reading images\n",
        "     img_resized = resize(img_array,(150,150,3)) #resizing images\n",
        "     flat_data.append(img_resized.flatten())     #flattening images\n",
        "     images.append(img_resized)\n",
        "     target.append(class_num)\n",
        "\n",
        "flat_data = np.array(flat_data)\n",
        "target = np.array(target)\n",
        "images = np.array(images)\n"
      ],
      "execution_count": 6,
      "outputs": [
        {
          "output_type": "stream",
          "text": [
            "time: 34.3 s (started: 2021-05-24 07:17:09 +00:00)\n"
          ],
          "name": "stdout"
        }
      ]
    },
    {
      "cell_type": "code",
      "metadata": {
        "id": "eyQZ6XdHNgeM",
        "colab": {
          "base_uri": "https://localhost:8080/"
        },
        "outputId": "65151d4f-16a1-4184-b284-8e33408105e0"
      },
      "source": [
        "from google.colab import drive\n",
        "drive.mount('/content/drive')"
      ],
      "execution_count": 7,
      "outputs": [
        {
          "output_type": "stream",
          "text": [
            "Mounted at /content/drive\n",
            "time: 1min 36s (started: 2021-05-24 07:17:43 +00:00)\n"
          ],
          "name": "stdout"
        }
      ]
    },
    {
      "cell_type": "code",
      "metadata": {
        "colab": {
          "base_uri": "https://localhost:8080/"
        },
        "id": "kPe9uscYXuS2",
        "outputId": "bf8c3049-6b83-4ac1-8717-c1af9f09dbf9"
      },
      "source": [
        "#Splitting Data into training and testing\n",
        "\n",
        "from sklearn.model_selection import train_test_split\n",
        "x_train,x_test,y_train,y_test = train_test_split(flat_data,target,test_size=0.3,random_state=109)\n",
        "\n"
      ],
      "execution_count": 8,
      "outputs": [
        {
          "output_type": "stream",
          "text": [
            "time: 162 ms (started: 2021-05-24 07:19:20 +00:00)\n"
          ],
          "name": "stdout"
        }
      ]
    },
    {
      "cell_type": "code",
      "metadata": {
        "id": "M95Bi_cyZHit",
        "colab": {
          "base_uri": "https://localhost:8080/"
        },
        "outputId": "0cf49382-46eb-4821-a8fe-51bd00f4bd5b"
      },
      "source": [
        "from sklearn.model_selection import GridSearchCV\n",
        "from sklearn import svm\n",
        "param_grid = [\n",
        "              { 'C':[1,10,100,1000], 'kernel':['linear']},\n",
        "              { 'C':[1,10,100,1000], 'gamma':[0.001,0.0001],'kernel':['rbf']},\n",
        "\n",
        "]\n",
        "\n",
        "svc = svm.SVC(probability=True)\n",
        "clf = GridSearchCV(svc,param_grid)\n",
        "clf.fit(x_train,y_train)"
      ],
      "execution_count": 9,
      "outputs": [
        {
          "output_type": "execute_result",
          "data": {
            "text/plain": [
              "GridSearchCV(cv=None, error_score=nan,\n",
              "             estimator=SVC(C=1.0, break_ties=False, cache_size=200,\n",
              "                           class_weight=None, coef0=0.0,\n",
              "                           decision_function_shape='ovr', degree=3,\n",
              "                           gamma='scale', kernel='rbf', max_iter=-1,\n",
              "                           probability=True, random_state=None, shrinking=True,\n",
              "                           tol=0.001, verbose=False),\n",
              "             iid='deprecated', n_jobs=None,\n",
              "             param_grid=[{'C': [1, 10, 100, 1000], 'kernel': ['linear']},\n",
              "                         {'C': [1, 10, 100, 1000], 'gamma': [0.001, 0.0001],\n",
              "                          'kernel': ['rbf']}],\n",
              "             pre_dispatch='2*n_jobs', refit=True, return_train_score=False,\n",
              "             scoring=None, verbose=0)"
            ]
          },
          "metadata": {
            "tags": []
          },
          "execution_count": 9
        },
        {
          "output_type": "stream",
          "text": [
            "time: 36.6 s (started: 2021-05-24 07:19:20 +00:00)\n"
          ],
          "name": "stdout"
        }
      ]
    },
    {
      "cell_type": "code",
      "metadata": {
        "colab": {
          "base_uri": "https://localhost:8080/"
        },
        "id": "CTrgU_tDbzZX",
        "outputId": "425c8238-393d-41bd-899a-f0e55e7ea0f5"
      },
      "source": [
        "y_pred = clf.predict(x_test)\n",
        "y_pred"
      ],
      "execution_count": 10,
      "outputs": [
        {
          "output_type": "execute_result",
          "data": {
            "text/plain": [
              "array([1, 0, 1, 1, 1, 0, 1, 0, 1, 1, 1, 1, 1, 1, 1, 1, 0, 0])"
            ]
          },
          "metadata": {
            "tags": []
          },
          "execution_count": 10
        },
        {
          "output_type": "stream",
          "text": [
            "time: 74.4 ms (started: 2021-05-24 07:19:56 +00:00)\n"
          ],
          "name": "stdout"
        }
      ]
    },
    {
      "cell_type": "code",
      "metadata": {
        "colab": {
          "base_uri": "https://localhost:8080/"
        },
        "id": "x3-DkpZucldU",
        "outputId": "29e6f2ec-daab-4f85-a7ca-1875a8cc8ea4"
      },
      "source": [
        "y_test"
      ],
      "execution_count": 11,
      "outputs": [
        {
          "output_type": "execute_result",
          "data": {
            "text/plain": [
              "array([0, 0, 0, 1, 0, 0, 1, 0, 0, 1, 1, 1, 1, 0, 1, 0, 0, 0])"
            ]
          },
          "metadata": {
            "tags": []
          },
          "execution_count": 11
        },
        {
          "output_type": "stream",
          "text": [
            "time: 4.42 ms (started: 2021-05-24 07:19:56 +00:00)\n"
          ],
          "name": "stdout"
        }
      ]
    },
    {
      "cell_type": "code",
      "metadata": {
        "colab": {
          "base_uri": "https://localhost:8080/"
        },
        "id": "vMLPUUXjcm2f",
        "outputId": "29f0a3ec-352d-4f62-f12c-4c6a21b7b380"
      },
      "source": [
        "from sklearn.metrics import accuracy_score , confusion_matrix\n",
        "accuracy_score(y_pred,y_test)\n",
        "\n",
        "#Accuracy \n"
      ],
      "execution_count": 12,
      "outputs": [
        {
          "output_type": "execute_result",
          "data": {
            "text/plain": [
              "0.6666666666666666"
            ]
          },
          "metadata": {
            "tags": []
          },
          "execution_count": 12
        },
        {
          "output_type": "stream",
          "text": [
            "time: 6.62 ms (started: 2021-05-24 07:19:56 +00:00)\n"
          ],
          "name": "stdout"
        }
      ]
    },
    {
      "cell_type": "code",
      "metadata": {
        "colab": {
          "base_uri": "https://localhost:8080/"
        },
        "id": "MOd0S-VWdBpg",
        "outputId": "81f1ac27-d65c-4106-9ba4-f8c54f7b1337"
      },
      "source": [
        "confusion_matrix(y_pred,y_test)"
      ],
      "execution_count": 13,
      "outputs": [
        {
          "output_type": "execute_result",
          "data": {
            "text/plain": [
              "array([[5, 0],\n",
              "       [6, 7]])"
            ]
          },
          "metadata": {
            "tags": []
          },
          "execution_count": 13
        },
        {
          "output_type": "stream",
          "text": [
            "time: 13.7 ms (started: 2021-05-24 07:19:57 +00:00)\n"
          ],
          "name": "stdout"
        }
      ]
    },
    {
      "cell_type": "code",
      "metadata": {
        "colab": {
          "base_uri": "https://localhost:8080/"
        },
        "id": "rzpesB6VdKtj",
        "outputId": "7758c280-77fe-431a-82a3-4a298d3c94bf"
      },
      "source": [
        "import pickle\n",
        "pickle.dump(clf,open('img_model.p', 'wb'))"
      ],
      "execution_count": 14,
      "outputs": [
        {
          "output_type": "stream",
          "text": [
            "time: 30.8 ms (started: 2021-05-24 07:19:57 +00:00)\n"
          ],
          "name": "stdout"
        }
      ]
    },
    {
      "cell_type": "code",
      "metadata": {
        "colab": {
          "base_uri": "https://localhost:8080/"
        },
        "id": "uBoth1XPdkUB",
        "outputId": "70a28856-d12a-4e03-de17-e5446b9ac7c8"
      },
      "source": [
        "model = pickle.load(open('img_model.p','rb'))"
      ],
      "execution_count": 15,
      "outputs": [
        {
          "output_type": "stream",
          "text": [
            "time: 13.3 ms (started: 2021-05-24 07:19:57 +00:00)\n"
          ],
          "name": "stdout"
        }
      ]
    },
    {
      "cell_type": "code",
      "metadata": {
        "colab": {
          "base_uri": "https://localhost:8080/",
          "height": 359
        },
        "id": "j2G4utNreN70",
        "outputId": "32562ab4-7f37-4558-f00b-be6c434e0436"
      },
      "source": [
        "#Testing with an image\n",
        "flat_data = []\n",
        "url = input(\"Enter your URL\")\n",
        "img = imread(url)\n",
        "img_resized = resize(img,(150,150,3))\n",
        "flat_data.append(img_resized.flatten())\n",
        "flat_data = np.array(flat_data)\n",
        "print(img.shape)\n",
        "plt.imshow(img_resized)\n",
        "y_out = model.predict(flat_data)\n",
        "y_out = CATEGORIES[y_out[0]]\n",
        "print(f'Predicted Output:{y_out}')"
      ],
      "execution_count": 16,
      "outputs": [
        {
          "output_type": "stream",
          "text": [
            "Enter your URLhttps://images.unsplash.com/photo-1535531084957-2f543cbce217?ixid=MnwxMjA3fDB8MHxzZWFyY2h8MXx8Ymx1ZSUyMG5pZ2h0JTIwc2t5fGVufDB8fDB8fA%3D%3D&ixlib=rb-1.2.1&w=1000&q=80\n",
            "(1500, 1000, 3)\n",
            "Predicted Output:Night sky\n"
          ],
          "name": "stdout"
        },
        {
          "output_type": "display_data",
          "data": {
            "image/png": "[encoded data removed]",
            "text/plain": [
              "<Figure size 432x288 with 1 Axes>"
            ]
          },
          "metadata": {
            "tags": [],
            "needs_background": "light"
          }
        },
        {
          "output_type": "stream",
          "text": [
            "time: 1min 28s (started: 2021-05-24 07:19:57 +00:00)\n"
          ],
          "name": "stdout"
        }
      ]
    }
  ]
}